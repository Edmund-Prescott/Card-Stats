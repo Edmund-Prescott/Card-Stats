{
 "cells": [
  {
   "cell_type": "markdown",
   "metadata": {},
   "source": [
    "<b>Imports"
   ]
  },
  {
   "cell_type": "code",
   "execution_count": 1,
   "metadata": {},
   "outputs": [],
   "source": [
    "from scipy.stats import hypergeom\n",
    "from txt_to_csv import txt_to_csv\n",
    "import request_scryfall as scryfall\n",
    "import pandas as pd"
   ]
  },
  {
   "cell_type": "markdown",
   "metadata": {},
   "source": [
    "<b>From Arena Export to CSV"
   ]
  },
  {
   "cell_type": "code",
   "execution_count": 10,
   "metadata": {},
   "outputs": [],
   "source": [
    "filename = \"deck.txt\"\n",
    "file_csv = filename.split('.')[0]+\".csv\"\n",
    "txt_to_csv(filename,file_csv)"
   ]
  },
  {
   "cell_type": "markdown",
   "metadata": {},
   "source": [
    "<b>CSV to Dataframe"
   ]
  },
  {
   "cell_type": "code",
   "execution_count": 11,
   "metadata": {},
   "outputs": [],
   "source": [
    "# Read the CSV file into a DataFrame\n",
    "df = pd.read_csv(file_csv)"
   ]
  },
  {
   "cell_type": "code",
   "execution_count": 12,
   "metadata": {},
   "outputs": [
    {
     "name": "stdout",
     "output_type": "stream",
     "text": [
      "odds: 0.5082984060328731\n"
     ]
    }
   ],
   "source": [
    "DECK_SIZE = df.iloc[:, 0].sum()\n",
    "LANDS = 18\n",
    "\n",
    "sample_size = 7\n",
    "lands_in_hand = 2\n",
    "\n",
    "# Create a hypergeometric distribution object\n",
    "hypergeom_dist = hypergeom(DECK_SIZE, LANDS, sample_size)\n",
    "\n",
    "# Calculate the probability of getting exactly 1 success in the sample\n",
    "probability = hypergeom_dist.pmf(lands_in_hand)\n",
    "\n",
    "# Calculate the odds\n",
    "odds = probability / (1 - probability)\n",
    "\n",
    "print(f\"odds: {odds}\")"
   ]
  },
  {
   "cell_type": "markdown",
   "metadata": {},
   "source": [
    "<b>Scryfall (?)"
   ]
  },
  {
   "cell_type": "code",
   "execution_count": 4,
   "metadata": {},
   "outputs": [
    {
     "name": "stdout",
     "output_type": "stream",
     "text": [
      "[['Forest', ''], ['Lightning Bolt', '']]\n"
     ]
    }
   ],
   "source": [
    "print(scryfall.get_cards(cards))"
   ]
  },
  {
   "cell_type": "code",
   "execution_count": null,
   "metadata": {},
   "outputs": [],
   "source": [
    "print(len(\"asmoranomardicadaistinaculdacar\"))"
   ]
  }
 ],
 "metadata": {
  "kernelspec": {
   "display_name": ".env",
   "language": "python",
   "name": "python3"
  },
  "language_info": {
   "codemirror_mode": {
    "name": "ipython",
    "version": 3
   },
   "file_extension": ".py",
   "mimetype": "text/x-python",
   "name": "python",
   "nbconvert_exporter": "python",
   "pygments_lexer": "ipython3",
   "version": "3.12.0"
  }
 },
 "nbformat": 4,
 "nbformat_minor": 2
}
